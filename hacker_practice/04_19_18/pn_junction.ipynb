{
 "cells": [
  {
   "cell_type": "code",
   "execution_count": 1,
   "metadata": {},
   "outputs": [],
   "source": [
    "# Define constants\n",
    "import time\n",
    "start_time = time.time()\n",
    "import math\n",
    "\n",
    "q = 1.602e-19\n",
    "eps = 11.68*8.85e-12\n",
    "boltzmann = 1.38e-23\n",
    "ni_cm = 1e10\n",
    "ni = ni_cm*1e6\n",
    "T = 298\n",
    "Vt = boltzmann*T/q\n",
    "\n",
    "Ld = math.sqrt(eps*Vt/q/ni)"
   ]
  },
  {
   "cell_type": "code",
   "execution_count": 2,
   "metadata": {
    "scrolled": true
   },
   "outputs": [],
   "source": [
    "# Define grid points, symbolic v(x, y), map (x, y) to grid point index and vice versa\n",
    "\n",
    "import symengine as se\n",
    "from symengine import symbols, RealDouble\n",
    "from symengine.lib.symengine_wrapper import DenseMatrix, Symbol\n",
    "import numpy as np\n",
    "from matplotlib import ticker, cm\n",
    "from matplotlib import pylab as plt\n",
    "# %matplotlib notebook\n",
    "\n",
    "box_length = 10e-6*3/Ld\n",
    "dimension = 16 # number of grid points per axis\n",
    "elements = dimension*dimension\n",
    "h_val = box_length/dimension  # normalized h\n",
    "Nd_val = -1e15/ni_cm\n",
    "Na_val = 1e17/ni_cm\n",
    "#bc_val = 0.0\n",
    "bc_val = 1/Vt\n",
    "max_bc = 1/Vt\n",
    "#v_sym = np.full((dimension, dimension), None, dtype=sympy.symbol.Symbol)\n",
    "v_sym = DenseMatrix(dimension, dimension, [0]*elements)\n",
    "index = 0\n",
    "for x in range(dimension):\n",
    "    for y in range(dimension):\n",
    "        v_sym[x, y] = Symbol('psi_'+str(index))\n",
    "        index += 1\n",
    "\n",
    "def get_xy(index):\n",
    "    x = math.floor(index/dimension)\n",
    "    y = index - x*dimension\n",
    "    return (x, y)\n",
    "def to_index(x, y):\n",
    "    return y + x*dimension\n",
    "\n",
    "def to_val(sym):\n",
    "    return sym.subs(h, h_val).subs(Na, Na_val).subs(Nd, Nd_val).subs(bc, bc_val)\n",
    "\n",
    "def convert_plot(arr):\n",
    "    return np.flipud(arr.transpose())"
   ]
  },
  {
   "cell_type": "code",
   "execution_count": 3,
   "metadata": {},
   "outputs": [],
   "source": [
    "# doping for x, y\n",
    "def get_doping(x, y):\n",
    "    cutoff = math.floor(dimension/2.0)\n",
    "    if (x+y <= cutoff):\n",
    "        return Nd\n",
    "    else:\n",
    "        return Na  "
   ]
  },
  {
   "cell_type": "code",
   "execution_count": 4,
   "metadata": {},
   "outputs": [],
   "source": [
    "# get boundary condition given x, y and direction\n",
    "def get_bc(x, y, pos):\n",
    "    # left is 0, top is 1, right is 2, bottom is 3\n",
    "    grid_scale = dimension/3\n",
    "    if pos == 0 and x == 0:\n",
    "        if y < grid_scale:\n",
    "            return bc\n",
    "        else:\n",
    "            return 0\n",
    "    elif pos == 1 and y == 0:\n",
    "        if x < grid_scale:\n",
    "            return bc\n",
    "        else:\n",
    "            return 0\n",
    "    else:\n",
    "        return 0\n",
    "\n",
    "def get_neighbor(x, y, pos, matrix=v_sym):\n",
    "    # left is 0, top is 1, right is 2, bottom is 4\n",
    "    offsets = [(-1, 0), (0, -1), (1, 0), (0, 1)]\n",
    "    x += offsets[pos][0]\n",
    "    y += offsets[pos][1]\n",
    "    if x < 0 or x >= dimension or y < 0 or y >= dimension:\n",
    "        return 0\n",
    "    else:\n",
    "        return matrix[x, y]\n",
    "\n",
    "def get_top(x, y):\n",
    "    return get_bc(x, y, 1) + get_neighbor\n",
    "    "
   ]
  },
  {
   "cell_type": "code",
   "execution_count": 5,
   "metadata": {},
   "outputs": [],
   "source": [
    "# full symbolic formulation\n",
    "h = Symbol('h')\n",
    "Nd = Symbol('Nd')\n",
    "Na = Symbol('Na')\n",
    "bc = Symbol('bc')\n",
    "#v_func_sym = np.full((dimension, dimension), None, dtype=sympy.symbol.Symbol)\n",
    "v_func_sym = DenseMatrix(dimension, dimension, [0]*elements)\n",
    "for x in range(dimension):\n",
    "    for y in range(dimension):\n",
    "        func = -4*v_sym[x, y]\n",
    "        for pos in range(4):\n",
    "            func += get_neighbor(x, y, pos)\n",
    "            func += get_bc(x, y, pos)\n",
    "        func += h**2*(se.exp(-v_sym[x, y]) - se.exp(v_sym[x, y]) + get_doping(x, y))\n",
    "        v_func_sym[x, y] = func\n",
    "#v_func_sym = np.array(list(v_func_sym.flat))\n",
    "v_func_sym = v_func_sym.reshape(elements, 1)"
   ]
  },
  {
   "cell_type": "code",
   "execution_count": 6,
   "metadata": {},
   "outputs": [],
   "source": [
    "# compute the jacobian\n",
    "v_sym_flat = v_sym.reshape(elements, 1)\n",
    "jacobian_sym = v_func_sym.jacobian(v_sym_flat)\n"
   ]
  },
  {
   "cell_type": "code",
   "execution_count": 7,
   "metadata": {},
   "outputs": [
    {
     "data": {
      "image/png": "[encoded data removed]",
      "text/plain": [
       "<Figure size 432x288 with 8 Axes>"
      ]
     },
     "metadata": {
      "needs_background": "light"
     },
     "output_type": "display_data"
    }
   ],
   "source": [
    "# verify boundary conditions. Each plot is for left, top, right and bottom respectively \n",
    "\n",
    "bcs = np.full((4), None, dtype=DenseMatrix)\n",
    "for i in range(4):\n",
    "    bcs[i] = DenseMatrix(dimension, dimension, [0]*elements)\n",
    "    for x in range(dimension):\n",
    "        for y in range(dimension):\n",
    "            bcs[i][x, y] = get_bc(x, y, i)\n",
    "\n",
    "\n",
    "bcs_sub = np.full((4), None, dtype=np.ndarray)\n",
    "for i in range(4):\n",
    "    bcs_sub[i] = np.array(bcs[i].subs(bc, bc_val)).astype(np.double).reshape(dimension, dimension)\n",
    "    \n",
    "for i in range(4):\n",
    "    plt.subplot(2, 2, i+1)\n",
    "    cont = plt.contourf(convert_plot(bcs_sub[i]),\n",
    "                       locator=ticker.LinearLocator(), \n",
    "                       cmap=cm.seismic)\n",
    "    plt.colorbar(cont, ticks=np.unique(bcs_sub[i]))\n",
    "plt.show(cont)"
   ]
  },
  {
   "cell_type": "code",
   "execution_count": 8,
   "metadata": {},
   "outputs": [
    {
     "data": {
      "image/png": "[encoded data removed]",
      "text/plain": [
       "<Figure size 432x288 with 2 Axes>"
      ]
     },
     "metadata": {
      "needs_background": "light"
     },
     "output_type": "display_data"
    }
   ],
   "source": [
    "# visually verify doping\n",
    "doping = DenseMatrix(dimension, dimension, [0]*elements)\n",
    "for x in range(dimension):\n",
    "    for y in range(dimension):\n",
    "        doping[x, y] = get_doping(x, y)\n",
    "doping = np.array(doping.subs(Na, Na_val).subs(Nd, Nd_val)).reshape(dimension, dimension)\n",
    "cont = plt.contourf(convert_plot(np.abs(doping)),\n",
    "                    locator=ticker.LogLocator(),\n",
    "                    cmap=cm.seismic)\n",
    "plt.colorbar()\n",
    "plt.show(cont)"
   ]
  },
  {
   "cell_type": "code",
   "execution_count": 9,
   "metadata": {},
   "outputs": [
    {
     "data": {
      "text/plain": [
       "array([[-4,  1,  0,  0,  0,  0,  0,  0],\n",
       "       [ 1, -4,  1,  0,  0,  0,  0,  0],\n",
       "       [ 0,  1, -4,  1,  0,  0,  0,  0],\n",
       "       [ 0,  0,  1, -4,  1,  0,  0,  0],\n",
       "       [ 0,  0,  0,  1, -4,  1,  0,  0],\n",
       "       [ 0,  0,  0,  0,  1, -4,  1,  0],\n",
       "       [ 0,  0,  0,  0,  0,  1, -4,  1],\n",
       "       [ 0,  0,  0,  0,  0,  0,  1, -4]])"
      ]
     },
     "execution_count": 9,
     "metadata": {},
     "output_type": "execute_result"
    }
   ],
   "source": [
    "# homogeneous formulation\n",
    "v_func_homog = DenseMatrix(dimension, dimension, [0]*elements)\n",
    "for x in range(dimension):\n",
    "    for y in range(dimension):\n",
    "        v_func_homog[x, y] = -4*v_sym[x, y]\n",
    "        for pos in range(4):\n",
    "            v_func_homog[x, y] = v_func_homog[x, y] + get_neighbor(x, y, pos)\n",
    "\n",
    "v_coeffs = v_func_homog.reshape(elements, 1).jacobian(v_sym_flat)\n",
    "v_coeffs = np.array(v_coeffs, dtype=np.double).reshape(elements, elements)\n",
    "v_coeffs.astype(int)[:8, :8]"
   ]
  },
  {
   "cell_type": "code",
   "execution_count": 10,
   "metadata": {},
   "outputs": [],
   "source": [
    "#homogeneous solution#linear solution (ignore the nonlinear n_i.exp(-psi/Vt) components)\n",
    "rhs = DenseMatrix(elements, 1, [0]*elements)\n",
    "for i in range(elements):\n",
    "    (x, y) = get_xy(i)\n",
    "    rhs[i] = h*h*-get_doping(x, y)\n",
    "    for j in range(4):\n",
    "        rhs[i] = rhs[i] - get_bc(x, y, j)\n",
    "\n",
    "rhs = np.array(to_val(rhs).tolist(), dtype=np.double)\n",
    "homog_soln = np.linalg.solve(v_coeffs, rhs)\n",
    "homog_soln*= Vt\n",
    "#print homog_soln.reshape((dimension, dimension))\n",
    "    "
   ]
  },
  {
   "cell_type": "code",
   "execution_count": 11,
   "metadata": {},
   "outputs": [
    {
     "name": "stdout",
     "output_type": "stream",
     "text": [
      "1.00000000000037\n",
      "1.00000000000001\n"
     ]
    }
   ],
   "source": [
    "# Test solution.  del2/rhs should be 1\n",
    "sol = homog_soln.reshape((dimension, dimension))\n",
    "\n",
    "def verify_soln(x, y):\n",
    "    neighbors = 0\n",
    "    for i in range(4):\n",
    "        neighbors += Vt*get_bc(x, y, i) + get_neighbor(x, y, i, sol)\n",
    "    del2 = to_val((neighbors - 4*sol[x][y])/(h*Ld)**2)\n",
    "    rhs = to_val((-q*get_doping(x, y)*ni/eps))\n",
    "    return del2, rhs, del2/rhs\n",
    "    \n",
    "print(verify_soln(2, 2)[2])\n",
    "print(verify_soln(0, 0)[2])"
   ]
  },
  {
   "cell_type": "code",
   "execution_count": 12,
   "metadata": {},
   "outputs": [
    {
     "data": {
      "image/png": "[encoded data removed]",
      "text/plain": [
       "<Figure size 432x288 with 2 Axes>"
      ]
     },
     "metadata": {
      "needs_background": "light"
     },
     "output_type": "display_data"
    }
   ],
   "source": [
    "cont = plt.contourf(convert_plot(sol))\n",
    "plt.colorbar(cont)\n",
    "plt.show(cont)"
   ]
  },
  {
   "cell_type": "code",
   "execution_count": 13,
   "metadata": {
    "pixiedust": {
     "displayParams": {}
    }
   },
   "outputs": [],
   "source": [
    "# evaluate f(v)\n",
    "import re\n",
    "pattern = 'psi_([0-9]+)'\n",
    "prog = re.compile(pattern)\n",
    "\n",
    "vfunc_indices = np.empty((elements), dtype=np.ndarray)\n",
    "for i in range(elements):\n",
    "    vfunc_indices[i] = list(map(int, np.unique(prog.findall(str(v_func_sym[i])))))\n",
    "\n",
    "def evaluate_f(v_func, soln):\n",
    "    temp_eval = np.copy(v_func)\n",
    "    for i in range(elements):\n",
    "        for j in vfunc_indices[i]:\n",
    "            temp_eval[i] = temp_eval[i].subs(v_sym_flat[j], soln[j])\n",
    "    return list(map(RealDouble.to_double, temp_eval))\n",
    "\n",
    "\n"
   ]
  },
  {
   "cell_type": "code",
   "execution_count": 14,
   "metadata": {},
   "outputs": [],
   "source": [
    "# evaluate jacobian\n",
    "# jacobian is independent of bc\n",
    "jacobian = to_val(jacobian_sym)\n",
    "jacobian_eval = np.copy(jacobian).reshape(elements, elements)\n",
    "np.fill_diagonal(jacobian_eval, 0)\n",
    "jacobian_eval = jacobian_eval.astype(np.double)\n",
    "\n",
    "\n",
    "# to make indexing faster\n",
    "jacobian_diag = np.diag(np.array(jacobian).reshape(elements, elements))\n",
    "\n",
    "range_index = range(elements)\n",
    "def evaluate_jacobian(soln):\n",
    "    for i in range_index:\n",
    "        jacobian_eval[i][i] = jacobian_diag[i].subs(v_sym_flat[i], soln[i])\n",
    "    return jacobian_eval"
   ]
  },
  {
   "cell_type": "code",
   "execution_count": 15,
   "metadata": {},
   "outputs": [],
   "source": [
    "#initial_soln = np.zeros(elements)\n",
    "#%timeit evaluate_f(initial_soln)\n",
    "#%timeit evaluate_jacobian(initial_soln)"
   ]
  },
  {
   "cell_type": "code",
   "execution_count": 16,
   "metadata": {},
   "outputs": [
    {
     "name": "stdout",
     "output_type": "stream",
     "text": [
      "bc = 0.0 :0..1..2..3..4..5..6..7..8..9..10..11..12..13..14..15..\n",
      "\n",
      "bc = -0.05882352941176472 :0..1..2..3..\n",
      "\n",
      "bc = -0.11764705882352944 :0..1..2..3..\n",
      "\n",
      "bc = -0.17647058823529416 :0..1..2..3..\n",
      "\n",
      "bc = -0.23529411764705888 :0..1..2..3..\n",
      "\n",
      "bc = -0.2941176470588236 :0..1..2..3..\n",
      "\n",
      "bc = -0.3529411764705883 :0..1..2..3..\n",
      "\n",
      "bc = -0.41176470588235303 :0..1..2..3..\n",
      "\n",
      "bc = -0.47058823529411775 :0..1..2..3..\n",
      "\n",
      "bc = -0.5294117647058825 :0..1..2..3..\n",
      "\n",
      "bc = -0.5882352941176472 :0..1..2..3..\n",
      "\n",
      "bc = -0.6470588235294119 :0..1..2..3..\n",
      "\n",
      "bc = -0.7058823529411766 :0..1..2..3..\n",
      "\n",
      "bc = -0.7647058823529413 :0..1..2..3..\n",
      "\n",
      "bc = -0.8235294117647061 :0..1..2..3..\n",
      "\n",
      "bc = -0.8823529411764707 :0..1..2..3..\n",
      "\n",
      "bc = -0.9411764705882355 :0..1..2..3..\n",
      "\n",
      "bc = -1.0 :0..1..2..3..\n",
      "\n"
     ]
    }
   ],
   "source": [
    "# nonlinear solution, solve by gradually stepping boundary condition\n",
    "source_steps = 18\n",
    "\n",
    "no_plots = 6\n",
    "plot_step = int(source_steps/no_plots)\n",
    "plot_index = 0\n",
    "\n",
    "v_data = np.empty((no_plots, dimension, dimension), dtype=np.double)\n",
    "f_data = np.empty((no_plots), dtype=np.ndarray)\n",
    "\n",
    "max_iterations = 30\n",
    "tol = 1e-8\n",
    "initial_sol = np.zeros(elements)\n",
    "\n",
    "curr_sol = initial_sol\n",
    "source_step = 0\n",
    "\n",
    "bc_vals = np.linspace(0, -1/Vt, source_steps)\n",
    "\n",
    "for source_step in range(source_steps):\n",
    "    \n",
    "    bc_val = bc_vals[source_step]\n",
    "    v_func = np.squeeze(to_val(v_func_sym).tolist())\n",
    "    f_sol = evaluate_f(v_func, curr_sol)\n",
    "    f_sum = np.absolute(f_sol).sum()\n",
    "    min_t = -20\n",
    "    print('bc = {} :'.format(bc_val*Vt), end=\"\"),\n",
    "    for i in range(max_iterations):\n",
    "        print('{}..'.format(i), end=\"\"), \n",
    "        f_sol = evaluate_f(v_func, curr_sol)\n",
    "        jacobian_sol = evaluate_jacobian(curr_sol)\n",
    "        del_v = -np.linalg.solve(jacobian_sol, f_sol)\n",
    "        t = 2\n",
    "        f_sum = np.absolute(f_sol).sum()\n",
    "        # line search\n",
    "        while t > min_t:\n",
    "            scale = 2**t\n",
    "            temp_sol = curr_sol + scale*del_v\n",
    "            temp_f_sol = evaluate_f(v_func, temp_sol)\n",
    "            temp_sum = np.absolute(temp_f_sol).sum()\n",
    "            if temp_sum < f_sum:\n",
    "                curr_sol = temp_sol\n",
    "                f_sol = temp_f_sol\n",
    "                break\n",
    "            #print 't = ', t\n",
    "            t -= 1\n",
    "        if t <= min_t:\n",
    "            print(\"No t reduces F(V)\")\n",
    "            break\n",
    "        if temp_sum < tol:\n",
    "            break\n",
    "    if source_step % plot_step == 0:\n",
    "        v_data[plot_index] = Vt*curr_sol.reshape((dimension, dimension))\n",
    "        f_data[plot_index] = np.array(f_sol).reshape((dimension, dimension))\n",
    "        plot_index += 1\n",
    "    print('\\n')\n",
    "\n",
    "\n",
    "\n",
    "    \n",
    "\n"
   ]
  },
  {
   "cell_type": "code",
   "execution_count": 17,
   "metadata": {
    "scrolled": true
   },
   "outputs": [
    {
     "data": {
      "image/png": "[encoded data removed]",
      "text/plain": [
       "<Figure size 1440x1280 with 6 Axes>"
      ]
     },
     "metadata": {
      "needs_background": "light"
     },
     "output_type": "display_data"
    }
   ],
   "source": [
    "# Plot solution for selected boundary conditions\n",
    "\n",
    "fig, axes = plt.subplots(nrows=2, ncols=3, figsize=(18, 16), dpi= 80,)\n",
    "axes = axes.flat\n",
    "\n",
    "for i in range(no_plots):\n",
    "    ax = axes[i]\n",
    "    cont = ax.contourf(convert_plot(v_data[i]), \n",
    "                      locator=ticker.AutoLocator(), \n",
    "                       cmap=cm.seismic)\n",
    "    #ticks = np.linspace(v_data[i].min(), v_data[i].max(), 5)\n",
    "    #plt.colorbar(cont, ax=ax, ticks=ticks, format='%.2f')\n",
    "    #ax.axis('off')\n",
    "    ax.set_aspect('equal')\n",
    "    plot_index += 1\n",
    "\n",
    "#plt.subplots_adjust(wspace=0.3)\n",
    "plt.show()\n",
    "#plt.rcParams['figure.figsize'] = default_plot_size"
   ]
  },
  {
   "cell_type": "markdown",
   "metadata": {},
   "source": [
    "Notes\n",
    "\n",
    "Slide 24, 34 3rd line of Differentiation matrix is incorrect for 3x3 grid. Correct matrix presented below\n",
    "\n",
    "Slide 30, no factor of 2 for Ld\n",
    "\n",
    "Slide 28, 34 clarification for which region is n-type or p-type is needed. Bullet points 3 and 4 on slide 28 contradict reverse bias condition specified in the hacker practice on page 34\n",
    "\n",
    "Slide 31, 32, 34 boundary conditions should not be multiplied by h^2"
   ]
  },
  {
   "cell_type": "markdown",
   "metadata": {},
   "source": [
    "$$ \\frac{\\partial^2 \\psi}{\\partial x^2} + \\frac{\\partial^2 \\psi}{\\partial y^2} = -q \\frac{n_i\\exp(-\\frac{\\psi}{V_T}) - n_i\\exp(\\frac{\\psi}{V_T}) + N(x, y) }{\\epsilon_{si}} $$"
   ]
  },
  {
   "cell_type": "markdown",
   "metadata": {},
   "source": [
    "$$ \\frac{\\partial^2 \\psi }{\\partial x^2 V_T} + \\frac{\\partial^2 \\psi}{\\partial y^2 V_T} = \\frac{-q n_i}{\\epsilon_{si} V_T} \\left( \\exp(-\\psi') - \\exp(\\psi') + \\frac{N(x, y)}{n_i} \\right) $$"
   ]
  },
  {
   "cell_type": "markdown",
   "metadata": {},
   "source": [
    "Let $$\\psi' = \\frac{\\psi}{V_T}$$\n",
    "$$L_D^2 = \\frac{\\epsilon_{si} V_T}{-q n_i} $$\n",
    "$$ N' = \\frac{N(x, y)}{n_i} $$ \n",
    "$$ x' = \\frac{x}{L_D} $$ \n",
    "$$ y' = \\frac{y}{L_D} $$"
   ]
  },
  {
   "cell_type": "markdown",
   "metadata": {},
   "source": [
    "$$ \\frac{\\partial^2 \\psi'}{\\partial x'^2 L_D^2} + \\frac{\\partial^2 \\psi'}{\\partial y'^2L_D^2} = \\frac{1}{L_D^2} \\left( \\exp(-\\psi') - \\exp(\\psi') + N'  \\right) $$"
   ]
  },
  {
   "cell_type": "markdown",
   "metadata": {},
   "source": [
    "$$ \\frac{\\partial^2 \\psi'}{\\partial x'^2 } + \\frac{\\partial^2 \\psi'}{\\partial y'^2} = \\exp(-\\psi') - \\exp(\\psi') + N'  $$"
   ]
  },
  {
   "cell_type": "markdown",
   "metadata": {},
   "source": [
    "Construct differentiation matrix using symbolic maths for 3x3 grid"
   ]
  },
  {
   "cell_type": "code",
   "execution_count": 19,
   "metadata": {},
   "outputs": [
    {
     "name": "stdout",
     "output_type": "stream",
     "text": [
      "[-4*psi_0 + psi_1 + psi_3, psi_0 - 4*psi_1 + psi_2 + psi_4, psi_1 - 4*psi_2 + psi_5]\n",
      "[psi_0 - 4*psi_3 + psi_4 + psi_6, psi_1 + psi_3 - 4*psi_4 + psi_5 + psi_7, psi_2 + psi_4 - 4*psi_5 + psi_8]\n",
      "[psi_3 - 4*psi_6 + psi_7, psi_4 + psi_6 - 4*psi_7 + psi_8, psi_5 + psi_7 - 4*psi_8]\n",
      "\n",
      "[[-4  1  0  1  0  0  0  0  0]\n",
      " [ 1 -4  1  0  1  0  0  0  0]\n",
      " [ 0  1 -4  0  0  1  0  0  0]\n",
      " [ 1  0  0 -4  1  0  1  0  0]\n",
      " [ 0  1  0  1 -4  1  0  1  0]\n",
      " [ 0  0  1  0  1 -4  0  0  1]\n",
      " [ 0  0  0  1  0  0 -4  1  0]\n",
      " [ 0  0  0  0  1  0  1 -4  1]\n",
      " [ 0  0  0  0  0  1  0  1 -4]]\n"
     ]
    }
   ],
   "source": [
    "dimension = 3\n",
    "elements = dimension * dimension\n",
    "# construct v_sym\n",
    "v_sym = DenseMatrix(dimension, dimension, [0]*elements)\n",
    "index = 0\n",
    "for x in range(dimension):\n",
    "    for y in range(dimension):\n",
    "        v_sym[x, y] = Symbol('psi_'+str(index))\n",
    "        index += 1\n",
    "v_sym_flat = v_sym.reshape(elements, 1)\n",
    "# construct v_func\n",
    "v_func_homog = DenseMatrix(dimension, dimension, [0]*elements)\n",
    "for x in range(dimension):\n",
    "    for y in range(dimension):\n",
    "        v_func_homog[x, y] = -4*v_sym[x, y]\n",
    "        for pos in range(4):\n",
    "            v_func_homog[x, y] = v_func_homog[x, y] + get_neighbor(x, y, pos, matrix=v_sym)\n",
    "\n",
    "\n",
    "v_coeffs = v_func_homog.reshape(elements, 1).jacobian(v_sym_flat)\n",
    "v_coeffs = np.array(v_coeffs, dtype=np.int).reshape(elements, elements)\n",
    "#v_func_homog\n",
    "print(v_func_homog)\n",
    "print(v_coeffs)"
   ]
  },
  {
   "cell_type": "code",
   "execution_count": null,
   "metadata": {},
   "outputs": [],
   "source": []
  }
 ],
 "metadata": {
  "kernelspec": {
   "display_name": "Python 3",
   "language": "python",
   "name": "python3"
  },
  "language_info": {
   "codemirror_mode": {
    "name": "ipython",
    "version": 3
   },
   "file_extension": ".py",
   "mimetype": "text/x-python",
   "name": "python",
   "nbconvert_exporter": "python",
   "pygments_lexer": "ipython3",
   "version": "3.7.1"
  },
  "varInspector": {
   "cols": {
    "lenName": 16,
    "lenType": 16,
    "lenVar": 40
   },
   "kernels_config": {
    "python": {
     "delete_cmd_postfix": "",
     "delete_cmd_prefix": "del ",
     "library": "var_list.py",
     "varRefreshCmd": "print(var_dic_list())"
    },
    "r": {
     "delete_cmd_postfix": ") ",
     "delete_cmd_prefix": "rm(",
     "library": "var_list.r",
     "varRefreshCmd": "cat(var_dic_list()) "
    }
   },
   "types_to_exclude": [
    "module",
    "function",
    "builtin_function_or_method",
    "instance",
    "_Feature"
   ],
   "window_display": false
  }
 },
 "nbformat": 4,
 "nbformat_minor": 2
}
